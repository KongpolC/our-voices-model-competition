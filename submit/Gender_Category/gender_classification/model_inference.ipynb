{
 "cells": [
  {
   "cell_type": "code",
   "execution_count": 1,
   "metadata": {},
   "outputs": [
    {
     "name": "stderr",
     "output_type": "stream",
     "text": [
      "/home/nuttawac/.conda/envs/gender_clf_2/lib/python3.8/site-packages/tqdm/auto.py:22: TqdmWarning: IProgress not found. Please update jupyter and ipywidgets. See https://ipywidgets.readthedocs.io/en/stable/user_install.html\n",
      "  from .autonotebook import tqdm as notebook_tqdm\n"
     ]
    }
   ],
   "source": [
    "import torchaudio\n",
    "from speechbrain.pretrained import EncoderClassifier"
   ]
  },
  {
   "cell_type": "code",
   "execution_count": 4,
   "metadata": {},
   "outputs": [
    {
     "ename": "OSError",
     "evalue": "[Errno 40] Too many levels of symbolic links: 'save/hparams_inference.yaml'",
     "output_type": "error",
     "traceback": [
      "\u001b[0;31m---------------------------------------------------------------------------\u001b[0m",
      "\u001b[0;31mOSError\u001b[0m                                   Traceback (most recent call last)",
      "Cell \u001b[0;32mIn [4], line 3\u001b[0m\n\u001b[1;32m      1\u001b[0m audio_path \u001b[38;5;241m=\u001b[39m \u001b[38;5;124m\"\u001b[39m\u001b[38;5;124mcommon_voice_th_25883229.wav\u001b[39m\u001b[38;5;124m\"\u001b[39m\n\u001b[0;32m----> 3\u001b[0m classifier \u001b[38;5;241m=\u001b[39m \u001b[43mEncoderClassifier\u001b[49m\u001b[38;5;241;43m.\u001b[39;49m\u001b[43mfrom_hparams\u001b[49m\u001b[43m(\u001b[49m\n\u001b[1;32m      4\u001b[0m \u001b[43m    \u001b[49m\u001b[43msource\u001b[49m\u001b[38;5;241;43m=\u001b[39;49m\u001b[38;5;124;43m\"\u001b[39;49m\u001b[38;5;124;43m./pretrained_model\u001b[39;49m\u001b[38;5;124;43m\"\u001b[39;49m\u001b[43m,\u001b[49m\u001b[43m \u001b[49m\n\u001b[1;32m      5\u001b[0m \u001b[43m    \u001b[49m\u001b[43mhparams_file\u001b[49m\u001b[38;5;241;43m=\u001b[39;49m\u001b[38;5;124;43m\"\u001b[39;49m\u001b[38;5;124;43m./hparams_inference.yaml\u001b[39;49m\u001b[38;5;124;43m\"\u001b[39;49m\u001b[43m,\u001b[49m\u001b[43m \u001b[49m\n\u001b[1;32m      6\u001b[0m \u001b[43m    \u001b[49m\u001b[43msavedir\u001b[49m\u001b[38;5;241;43m=\u001b[39;49m\u001b[38;5;124;43m\"\u001b[39;49m\u001b[38;5;124;43m./save\u001b[39;49m\u001b[38;5;124;43m\"\u001b[39;49m\n\u001b[1;32m      7\u001b[0m \u001b[43m    \u001b[49m\u001b[43m)\u001b[49m\n\u001b[1;32m      8\u001b[0m signal, fs \u001b[38;5;241m=\u001b[39m torchaudio\u001b[38;5;241m.\u001b[39mload(audio_path) \n\u001b[1;32m      9\u001b[0m output_probs, score, index, class_pred \u001b[38;5;241m=\u001b[39m classifier\u001b[38;5;241m.\u001b[39mclassify_batch(signal)\n",
      "File \u001b[0;32m~/speechbrain/speechbrain/pretrained/interfaces.py:361\u001b[0m, in \u001b[0;36mPretrained.from_hparams\u001b[0;34m(cls, source, hparams_file, pymodule_file, overrides, savedir, use_auth_token, revision, **kwargs)\u001b[0m\n\u001b[1;32m    358\u001b[0m         \u001b[39mraise\u001b[39;00m\n\u001b[1;32m    360\u001b[0m \u001b[39m# Load the modules:\u001b[39;00m\n\u001b[0;32m--> 361\u001b[0m \u001b[39mwith\u001b[39;00m \u001b[39mopen\u001b[39;49m(hparams_local_path) \u001b[39mas\u001b[39;00m fin:\n\u001b[1;32m    362\u001b[0m     hparams \u001b[39m=\u001b[39m load_hyperpyyaml(fin, overrides)\n\u001b[1;32m    364\u001b[0m \u001b[39m# Pretraining:\u001b[39;00m\n",
      "\u001b[0;31mOSError\u001b[0m: [Errno 40] Too many levels of symbolic links: 'save/hparams_inference.yaml'"
     ]
    }
   ],
   "source": [
    "audio_path = \"common_voice_th_25883229.wav\"\n",
    "\n",
    "classifier = EncoderClassifier.from_hparams(\n",
    "    source=\"./pretrained_model\", \n",
    "    hparams_file=\"./hparams_inference.yaml\", \n",
    "    savedir=\"./save\"\n",
    "    )\n",
    "signal, fs = torchaudio.load(audio_path) \n",
    "output_probs, score, index, class_pred = classifier.classify_batch(signal)\n"
   ]
  },
  {
   "cell_type": "code",
   "execution_count": 3,
   "metadata": {},
   "outputs": [
    {
     "data": {
      "text/plain": [
       "'Male'"
      ]
     },
     "execution_count": 3,
     "metadata": {},
     "output_type": "execute_result"
    }
   ],
   "source": [
    "class_pred[0]"
   ]
  },
  {
   "cell_type": "code",
   "execution_count": null,
   "metadata": {},
   "outputs": [],
   "source": []
  }
 ],
 "metadata": {
  "kernelspec": {
   "display_name": "Python 3.8.13 ('gender_clf_2': conda)",
   "language": "python",
   "name": "python3"
  },
  "language_info": {
   "codemirror_mode": {
    "name": "ipython",
    "version": 3
   },
   "file_extension": ".py",
   "mimetype": "text/x-python",
   "name": "python",
   "nbconvert_exporter": "python",
   "pygments_lexer": "ipython3",
   "version": "3.8.13"
  },
  "orig_nbformat": 4,
  "vscode": {
   "interpreter": {
    "hash": "100dcf692c84cb87d59b66a67080d46488ebcac03d436d44df94de0840edb7d7"
   }
  }
 },
 "nbformat": 4,
 "nbformat_minor": 2
}
